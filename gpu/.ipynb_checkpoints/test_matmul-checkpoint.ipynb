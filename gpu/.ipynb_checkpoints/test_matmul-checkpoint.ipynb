{
 "cells": [
  {
   "cell_type": "code",
   "execution_count": 64,
   "id": "remarkable-saint",
   "metadata": {},
   "outputs": [
    {
     "name": "stdout",
     "output_type": "stream",
     "text": [
      "Num GPUs Available:  1\n",
      "Init complete\n"
     ]
    }
   ],
   "source": [
    "import tensorflow as tf\n",
    "import numpy as np\n",
    "import time\n",
    "\n",
    "print(\"Num GPUs Available: \", len(tf.config.list_physical_devices('GPU')))\n",
    "\n",
    "#a = np.array([[1, 2, 3], [4, 5, 6]])\n",
    "#b = np.array([1, 2, 3])\n",
    "c = 1000\n",
    "a = tf.convert_to_tensor(np.random.rand(c,c))\n",
    "b = tf.convert_to_tensor(np.random.rand(c,c))\n",
    "\n",
    "print(\"Init complete\");\n",
    "tf.debugging.set_log_device_placement(True)"
   ]
  },
  {
   "cell_type": "code",
   "execution_count": 87,
   "id": "criminal-technique",
   "metadata": {},
   "outputs": [
    {
     "name": "stdout",
     "output_type": "stream",
     "text": [
      "0.043917179107666016\n"
     ]
    }
   ],
   "source": [
    "start = time.time()\n",
    "res = 0\n",
    "\n",
    "for i in range(0, 1000):\n",
    "    c = tf.matmul(a , b)\n",
    "    res += len(c)\n",
    "print(time.time() - start)"
   ]
  }
 ],
 "metadata": {
  "kernelspec": {
   "display_name": "Python 3",
   "language": "python",
   "name": "python3"
  },
  "language_info": {
   "codemirror_mode": {
    "name": "ipython",
    "version": 3
   },
   "file_extension": ".py",
   "mimetype": "text/x-python",
   "name": "python",
   "nbconvert_exporter": "python",
   "pygments_lexer": "ipython3",
   "version": "3.8.8"
  }
 },
 "nbformat": 4,
 "nbformat_minor": 5
}

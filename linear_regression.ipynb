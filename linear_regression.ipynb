{
 "cells": [
  {
   "cell_type": "code",
   "execution_count": 1,
   "id": "hindu-reserve",
   "metadata": {},
   "outputs": [],
   "source": [
    "import matplotlib.pyplot as plt\n",
    "import numpy as np\n",
    "import pandas as pd\n",
    "import random"
   ]
  },
  {
   "cell_type": "code",
   "execution_count": 79,
   "id": "strong-injection",
   "metadata": {},
   "outputs": [],
   "source": [
    "def f(x):\n",
    "    return 3*x + 4 + random.uniform(-0.5, 10)\n",
    "vf = np.vectorize(f)"
   ]
  },
  {
   "cell_type": "code",
   "execution_count": 80,
   "id": "ahead-selling",
   "metadata": {},
   "outputs": [
    {
     "data": {
      "text/plain": [
       "<matplotlib.collections.PathCollection at 0x7f8908cd5a30>"
      ]
     },
     "execution_count": 80,
     "metadata": {},
     "output_type": "execute_result"
    },
    {
     "data": {
      "image/png": "[encoded data removed]",
      "text/plain": [
       "<Figure size 432x288 with 1 Axes>"
      ]
     },
     "metadata": {
      "needs_background": "light"
     },
     "output_type": "display_data"
    }
   ],
   "source": [
    "data = np.linspace(0, 10, 20)\n",
    "data = np.vstack((data, vf(data)))\n",
    "data = data.T\n",
    "X = data[:, 0]\n",
    "Y = data[:, 1]\n",
    "plt.scatter(X, Y)"
   ]
  },
  {
   "cell_type": "code",
   "execution_count": 81,
   "id": "sound-contractor",
   "metadata": {},
   "outputs": [],
   "source": [
    "input = np.linspace(0, 10, 100)\n",
    "model = np.array((1, 0))"
   ]
  },
  {
   "cell_type": "code",
   "execution_count": 82,
   "id": "prospective-response",
   "metadata": {},
   "outputs": [
    {
     "data": {
      "text/plain": [
       "[<matplotlib.lines.Line2D at 0x7f8908d33d90>]"
      ]
     },
     "execution_count": 82,
     "metadata": {},
     "output_type": "execute_result"
    },
    {
     "data": {
      "image/png": "[encoded data removed]",
      "text/plain": [
       "<Figure size 432x288 with 1 Axes>"
      ]
     },
     "metadata": {
      "needs_background": "light"
     },
     "output_type": "display_data"
    }
   ],
   "source": [
    "predict = input.dot(model[0]) + model[1]\n",
    "plt.scatter(X, Y)\n",
    "plt.plot(input, predict, 'r--')"
   ]
  },
  {
   "cell_type": "markdown",
   "id": "victorian-spelling",
   "metadata": {},
   "source": [
    "## MAE\n",
    "\n",
    "Cost: $$MAE = \\frac{1}{n}\\sum(y-\\hat{y})$$\n",
    "\n",
    "Gradient:\n",
    "$$\\frac{dC}{dw_1}=\\frac{1}{n}\\sum{|-w_1|}$$\n",
    "\n",
    "$$\\frac{dC}{dw_2}=\\frac{1}{n}\\sum{|-1|}=1$$\n",
    "\n",
    "Not gonna work :("
   ]
  },
  {
   "cell_type": "code",
   "execution_count": 83,
   "id": "acknowledged-championship",
   "metadata": {},
   "outputs": [
    {
     "data": {
      "text/plain": [
       "18.811583836075865"
      ]
     },
     "execution_count": 83,
     "metadata": {},
     "output_type": "execute_result"
    }
   ],
   "source": [
    "mae = (Y - X * model[0] + model[1]).sum() / len(X)\n",
    "mae"
   ]
  },
  {
   "cell_type": "code",
   "execution_count": null,
   "id": "falling-scholarship",
   "metadata": {},
   "outputs": [],
   "source": []
  },
  {
   "cell_type": "markdown",
   "id": "higher-analysis",
   "metadata": {},
   "source": [
    "## MSE\n",
    "\n",
    "Cost:\n",
    "$$MSE=\\frac{1}{n}\\sum{(y-\\hat{y})}^2$$\n",
    "$$\\frac{d}{dw_1}=\\frac{1}{n}\\sum{-2x(-xw_1 - w_2 + y)}$$\n",
    "$$\\frac{d}{dw_2}=\\frac{1}{n}\\sum{-2(-xw_1 - w_2 + y)}$$"
   ]
  },
  {
   "cell_type": "code",
   "execution_count": 84,
   "id": "ruled-difference",
   "metadata": {},
   "outputs": [
    {
     "data": {
      "text/plain": [
       "412.2825534079281"
      ]
     },
     "execution_count": 84,
     "metadata": {},
     "output_type": "execute_result"
    }
   ],
   "source": [
    "mse = np.power((Y - X * model[0] + model[1]), 2).sum() / len(X)\n",
    "mse"
   ]
  },
  {
   "cell_type": "code",
   "execution_count": 85,
   "id": "executive-bicycle",
   "metadata": {},
   "outputs": [
    {
     "data": {
      "text/plain": [
       "-229.87008226373823"
      ]
     },
     "execution_count": 85,
     "metadata": {},
     "output_type": "execute_result"
    }
   ],
   "source": [
    "w_1 = (-2 * X * (-1 * X * model[0] - model[1] + Y)).sum() / len(X)\n",
    "w_1"
   ]
  },
  {
   "cell_type": "code",
   "execution_count": 86,
   "id": "corrected-attendance",
   "metadata": {},
   "outputs": [
    {
     "data": {
      "text/plain": [
       "-37.62316767215173"
      ]
     },
     "execution_count": 86,
     "metadata": {},
     "output_type": "execute_result"
    }
   ],
   "source": [
    "w_2 = (-2 * (-1 * X * model[0] - model[1] + Y)).sum() / len(X)\n",
    "w_2"
   ]
  },
  {
   "cell_type": "code",
   "execution_count": 87,
   "id": "technical-today",
   "metadata": {},
   "outputs": [
    {
     "data": {
      "text/plain": [
       "array([3.29870082, 0.37623168])"
      ]
     },
     "execution_count": 87,
     "metadata": {},
     "output_type": "execute_result"
    }
   ],
   "source": [
    "model = model - np.array((w_1, w_2)) * 0.01\n",
    "model"
   ]
  },
  {
   "cell_type": "code",
   "execution_count": 88,
   "id": "unable-apollo",
   "metadata": {},
   "outputs": [
    {
     "data": {
      "text/plain": [
       "[<matplotlib.lines.Line2D at 0x7f89190773a0>]"
      ]
     },
     "execution_count": 88,
     "metadata": {},
     "output_type": "execute_result"
    },
    {
     "data": {
      "image/png": "[encoded data removed]",
      "text/plain": [
       "<Figure size 432x288 with 1 Axes>"
      ]
     },
     "metadata": {
      "needs_background": "light"
     },
     "output_type": "display_data"
    }
   ],
   "source": [
    "predict = input.dot(model[0]) + model[1]\n",
    "plt.scatter(X, Y)\n",
    "plt.plot(input, predict, 'r--')"
   ]
  },
  {
   "cell_type": "code",
   "execution_count": 89,
   "id": "formal-radical",
   "metadata": {},
   "outputs": [
    {
     "data": {
      "text/plain": [
       "[<matplotlib.lines.Line2D at 0x7f88b87b9850>]"
      ]
     },
     "execution_count": 89,
     "metadata": {},
     "output_type": "execute_result"
    },
    {
     "data": {
      "image/png": "[encoded data removed]",
      "text/plain": [
       "<Figure size 432x288 with 1 Axes>"
      ]
     },
     "metadata": {
      "needs_background": "light"
     },
     "output_type": "display_data"
    }
   ],
   "source": [
    "w_1 = (-2 * X * (-1 * X * model[0] - model[1] + Y)).sum() / len(X)\n",
    "w_2 = (-2 * (-1 * X * model[0] - model[1] + Y)).sum() / len(X)\n",
    "model = model - np.array((w_1, w_2)) * 0.01\n",
    "predict = input.dot(model[0]) + model[1]\n",
    "plt.scatter(X, Y)\n",
    "plt.plot(input, predict, 'r--')"
   ]
  },
  {
   "cell_type": "code",
   "execution_count": 90,
   "id": "enclosed-doctor",
   "metadata": {},
   "outputs": [],
   "source": [
    "w_1_hist = np.array(())\n",
    "w_2_hist = np.array(())\n",
    "mse_hist = np.array(())\n",
    "\n",
    "for i in range(0, 1000):\n",
    "    w_1 = (-2 * X * (-1 * X * model[0] - model[1] + Y)).sum() / len(X)\n",
    "    w_2 = (-2 * (-1 * X * model[0] - model[1] + Y)).sum() / len(X)\n",
    "        \n",
    "    model = model - np.array((w_1, w_2)) * 0.01\n",
    "    w_1_hist = np.append(w_1_hist, model[0])\n",
    "    w_2_hist = np.append(w_2_hist, model[1])\n",
    "\n",
    "    mse = np.power((Y - X * model[0] - model[1]), 2).sum() / len(X)\n",
    "    mse_hist = np.append(mse_hist, mse)"
   ]
  },
  {
   "cell_type": "code",
   "execution_count": 91,
   "id": "corresponding-juvenile",
   "metadata": {},
   "outputs": [
    {
     "data": {
      "text/plain": [
       "[<matplotlib.lines.Line2D at 0x7f8919181190>]"
      ]
     },
     "execution_count": 91,
     "metadata": {},
     "output_type": "execute_result"
    },
    {
     "data": {
      "image/png": "[encoded data removed]",
      "text/plain": [
       "<Figure size 432x288 with 1 Axes>"
      ]
     },
     "metadata": {
      "needs_background": "light"
     },
     "output_type": "display_data"
    }
   ],
   "source": [
    "plt.plot(np.linspace(0, 100, len(w_1_hist)), w_1_hist)\n",
    "plt.plot(np.linspace(0, 100, len(w_2_hist)), w_2_hist)"
   ]
  },
  {
   "cell_type": "code",
   "execution_count": 92,
   "id": "typical-teach",
   "metadata": {},
   "outputs": [
    {
     "data": {
      "text/plain": [
       "[<matplotlib.lines.Line2D at 0x7f88d883ad60>]"
      ]
     },
     "execution_count": 92,
     "metadata": {},
     "output_type": "execute_result"
    },
    {
     "data": {
      "image/png": "[encoded data removed]",
      "text/plain": [
       "<Figure size 432x288 with 1 Axes>"
      ]
     },
     "metadata": {
      "needs_background": "light"
     },
     "output_type": "display_data"
    }
   ],
   "source": [
    "plt.plot(np.linspace(0, 100, len(mse_hist)), mse_hist)"
   ]
  },
  {
   "cell_type": "code",
   "execution_count": 93,
   "id": "controlled-preparation",
   "metadata": {},
   "outputs": [
    {
     "data": {
      "text/plain": [
       "[<matplotlib.lines.Line2D at 0x7f891928d340>]"
      ]
     },
     "execution_count": 93,
     "metadata": {},
     "output_type": "execute_result"
    },
    {
     "data": {
      "image/png": "[encoded data removed]",
      "text/plain": [
       "<Figure size 432x288 with 1 Axes>"
      ]
     },
     "metadata": {
      "needs_background": "light"
     },
     "output_type": "display_data"
    }
   ],
   "source": [
    "predict = input.dot(model[0]) + model[1]\n",
    "plt.scatter(X, Y)\n",
    "plt.plot(input, predict, 'r--')"
   ]
  }
 ],
 "metadata": {
  "kernelspec": {
   "display_name": "Python 3",
   "language": "python",
   "name": "python3"
  },
  "language_info": {
   "codemirror_mode": {
    "name": "ipython",
    "version": 3
   },
   "file_extension": ".py",
   "mimetype": "text/x-python",
   "name": "python",
   "nbconvert_exporter": "python",
   "pygments_lexer": "ipython3",
   "version": "3.8.5"
  }
 },
 "nbformat": 4,
 "nbformat_minor": 5
}

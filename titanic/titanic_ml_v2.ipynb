{
 "cells": [
  {
   "cell_type": "code",
   "execution_count": 8,
   "id": "affected-algebra",
   "metadata": {},
   "outputs": [],
   "source": [
    "import matplotlib.pyplot as plt\n",
    "import re\n",
    "import numpy as np\n",
    "import math\n",
    "import pandas as pd\n",
    "import random\n",
    "import seaborn as sns\n",
    "import warnings\n",
    "import itertools\n",
    "import sklearn.neighbors\n",
    "from sklearn.model_selection import GridSearchCV\n",
    "from sklearn.neural_network import MLPClassifier\n",
    "from sklearn.ensemble import RandomForestClassifier\n",
    "import sklearn.linear_model\n",
    "from sklearn.model_selection import train_test_split\n",
    "warnings.filterwarnings(\"ignore\")\n",
    "\n",
    "plt.style.use('ggplot')"
   ]
  },
  {
   "cell_type": "code",
   "execution_count": 9,
   "id": "raised-single",
   "metadata": {},
   "outputs": [],
   "source": [
    "train = pd.read_csv('train.csv').set_index('PassengerId')\n",
    "test = pd.read_csv('test.csv').set_index('PassengerId')\n",
    "test['Survived'] = 0\n",
    "\n",
    "train_and_test = pd.concat([train, test])\n",
    "\n",
    "train_and_test['Rank'] = train_and_test['Cabin'].str[0]\n",
    "train_and_test = pd.get_dummies(train_and_test, columns=['Sex', 'Pclass', 'Rank', 'Embarked'])\n",
    "\n",
    "def normalize(column):\n",
    "    train_and_test[column] = (train_and_test[column] - train_and_test[column].min()) / (train_and_test[column].max() - train_and_test[column].min())\n",
    "    \n",
    "train_and_test['LastName'] = train_and_test['Name'].apply(lambda x: x.split(',')[0])\n",
    "survived_families = train_and_test[train_and_test['Survived'] != -1].groupby('LastName')\n",
    "survived_families = dict((survived_families['Survived'].sum() - 1) / survived_families['Survived'].count())\n",
    "train_and_test['SurvivedFamily'] = train_and_test['LastName'].apply(lambda name: survived_families.get(name, 0))\n",
    "normalize('SurvivedFamily')\n",
    "\n",
    "train_and_test['Age'] = train_and_test['Age'].fillna(30)\n",
    "normalize('Age')\n",
    "normalize('SibSp')\n",
    "normalize('Parch')\n",
    "normalize('Fare')\n",
    "train_and_test['Fare'] = train_and_test['Fare'].fillna(0)\n",
    "\n",
    "train_and_test = train_and_test.drop(['Name', 'Ticket', 'Cabin', 'LastName'], axis=1)\n",
    "\n",
    "train_and_test['Survived'] = train_and_test.pop('Survived')\n",
    "\n",
    "data = train_and_test[~train_and_test.index.isin(test.index)]\n",
    "test = train_and_test[~train_and_test.index.isin(data.index)]\n",
    "\n",
    "data = data.reset_index()\n",
    "test = test.reset_index()\n",
    "\n",
    "X_train, X_test = train_test_split(data.to_numpy())\n",
    "\n",
    "data.set_index('PassengerId').to_csv('tmd_data.csv')"
   ]
  },
  {
   "cell_type": "code",
   "execution_count": 10,
   "id": "informational-flooring",
   "metadata": {},
   "outputs": [
    {
     "name": "stdout",
     "output_type": "stream",
     "text": [
      "LogReg: {} score: 0.8967359236708304\n"
     ]
    }
   ],
   "source": [
    "model = sklearn.linear_model.LogisticRegression()\n",
    "param_grid = {}\n",
    "lin_gscv = GridSearchCV(model, param_grid, cv=5)\n",
    "lin_gscv.fit(X[:, 1:-1], X[:, -1])\n",
    "\n",
    "print(\"%s: %s score: %s\" %  (\"LogReg\", str(lin_gscv.best_params_), str(lin_gscv.best_score_)))\n"
   ]
  },
  {
   "cell_type": "code",
   "execution_count": 4,
   "id": "independent-arrest",
   "metadata": {},
   "outputs": [
    {
     "name": "stdout",
     "output_type": "stream",
     "text": [
      "Forest: {'max_depth': 8, 'max_features': 4, 'n_estimators': 35} score: 0.9427840199750313\n"
     ]
    }
   ],
   "source": [
    "model = RandomForestClassifier(n_estimators=100, max_depth=3, random_state=2)\n",
    "param_grid = {\n",
    "    \"n_estimators\": range(10, 50, 5),\n",
    "    \"max_features\": range(4, 10, 100),\n",
    "    \"max_depth\": range(5, 10)\n",
    "}\n",
    "rfc_gscv = GridSearchCV(model, param_grid, cv=10, n_jobs=-1)\n",
    "rfc_gscv.fit(X[:, 1:-1], X[:, -1])\n",
    "print(\"%s: %s score: %s\" %  (\"Forest\", str(rfc_gscv.best_params_), str(rfc_gscv.best_score_)))"
   ]
  },
  {
   "cell_type": "code",
   "execution_count": 5,
   "id": "former-walter",
   "metadata": {},
   "outputs": [
    {
     "name": "stdout",
     "output_type": "stream",
     "text": [
      "MLP: {'hidden_layer_sizes': (21, 6), 'max_iter': 40, 'solver': 'lbfgs'} score: 0.9315422760655327\n"
     ]
    }
   ],
   "source": [
    "model = MLPClassifier(random_state=1, activation='relu')\n",
    "param_grid = {\n",
    "    'max_iter': np.arange(10, 50, step=10),\n",
    "    'solver': ['lbfgs', 'adam'],\n",
    "#    'hidden_layer_sizes': list(range(4, 10)) + list(itertools.product(range(4, 12), range(1, 8)))\n",
    "    'hidden_layer_sizes': list(itertools.product(range(18, 24), range(4, 8)))\n",
    "}\n",
    "mlp_gscv = GridSearchCV(model, param_grid, cv=5, n_jobs=-1)\n",
    "mlp_gscv.fit(X[:, 1:-1], X[:, -1])\n",
    "print(\"%s: %s score: %s\" %  ('MLP', str(mlp_gscv.best_params_), str(mlp_gscv.best_score_)))\n",
    "# 0.8271"
   ]
  },
  {
   "cell_type": "code",
   "execution_count": 6,
   "id": "universal-belle",
   "metadata": {},
   "outputs": [
    {
     "data": {
      "text/html": [
       "<div>\n",
       "<style scoped>\n",
       "    .dataframe tbody tr th:only-of-type {\n",
       "        vertical-align: middle;\n",
       "    }\n",
       "\n",
       "    .dataframe tbody tr th {\n",
       "        vertical-align: top;\n",
       "    }\n",
       "\n",
       "    .dataframe thead th {\n",
       "        text-align: right;\n",
       "    }\n",
       "</style>\n",
       "<table border=\"1\" class=\"dataframe\">\n",
       "  <thead>\n",
       "    <tr style=\"text-align: right;\">\n",
       "      <th></th>\n",
       "      <th>Survived</th>\n",
       "      <th>From</th>\n",
       "    </tr>\n",
       "    <tr>\n",
       "      <th>PassengerId</th>\n",
       "      <th></th>\n",
       "      <th></th>\n",
       "    </tr>\n",
       "  </thead>\n",
       "  <tbody>\n",
       "    <tr>\n",
       "      <th>892</th>\n",
       "      <td>1</td>\n",
       "      <td>lin</td>\n",
       "    </tr>\n",
       "    <tr>\n",
       "      <th>893</th>\n",
       "      <td>0</td>\n",
       "      <td>lin</td>\n",
       "    </tr>\n",
       "  </tbody>\n",
       "</table>\n",
       "</div>"
      ],
      "text/plain": [
       "             Survived From\n",
       "PassengerId               \n",
       "892                 1  lin\n",
       "893                 0  lin"
      ]
     },
     "execution_count": 6,
     "metadata": {},
     "output_type": "execute_result"
    }
   ],
   "source": [
    "def predict(model):\n",
    "    test_data = test.to_numpy()\n",
    "    predicted = mlp_gscv.predict(test_data[:, 1:-1])\n",
    "    predicted = np.c_[test_data[:, 0], predicted]\n",
    "\n",
    "    predicted = pd.DataFrame(data=predicted, columns=['PassengerId', 'Survived'])\n",
    "\n",
    "    predicted['PassengerId'] = predicted['PassengerId'].astype(int)\n",
    "    predicted['Survived'] = predicted['Survived'].astype(int)\n",
    "    return predicted.set_index('PassengerId').sort_values(by=['PassengerId'])\n",
    "\n",
    "predict_lin = predict(lin_gscv)\n",
    "predict_rfc = predict(rfc_gscv)\n",
    "predict_mpl = predict(mlp_gscv)\n",
    "\n",
    "predict_mpl.to_csv('my_submission.csv')\n",
    "\n",
    "predict_lin['From'] = 'lin'\n",
    "predict_rfc['From'] = 'rfc'\n",
    "predict_mpl['From'] = 'mlp'\n",
    "\n",
    "pd.concat([predict_lin, predict_rfc, predict_mpl]).sort_values(by=['PassengerId']).drop_duplicates('Survived')"
   ]
  }
 ],
 "metadata": {
  "kernelspec": {
   "display_name": "Python 3",
   "language": "python",
   "name": "python3"
  },
  "language_info": {
   "codemirror_mode": {
    "name": "ipython",
    "version": 3
   },
   "file_extension": ".py",
   "mimetype": "text/x-python",
   "name": "python",
   "nbconvert_exporter": "python",
   "pygments_lexer": "ipython3",
   "version": "3.8.5"
  }
 },
 "nbformat": 4,
 "nbformat_minor": 5
}

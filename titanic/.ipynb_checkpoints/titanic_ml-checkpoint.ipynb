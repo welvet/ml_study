{
 "cells": [
  {
   "cell_type": "code",
   "execution_count": 218,
   "id": "union-closing",
   "metadata": {},
   "outputs": [],
   "source": [
    "import matplotlib.pyplot as plt\n",
    "import re\n",
    "import numpy as np\n",
    "import math\n",
    "import pandas as pd\n",
    "import random\n",
    "import seaborn as sns\n",
    "import warnings\n",
    "import itertools\n",
    "import sklearn.neighbors\n",
    "from sklearn.model_selection import GridSearchCV\n",
    "from sklearn.neural_network import MLPClassifier\n",
    "from sklearn.ensemble import RandomForestClassifier\n",
    "import sklearn.linear_model\n",
    "warnings.filterwarnings(\"ignore\")\n",
    "\n",
    "plt.style.use('ggplot')"
   ]
  },
  {
   "cell_type": "code",
   "execution_count": 340,
   "id": "liquid-greece",
   "metadata": {},
   "outputs": [],
   "source": [
    "data = pd.read_csv('train.csv').set_index('PassengerId')\n",
    "test = pd.read_csv('test.csv').set_index('PassengerId')\n",
    "test['Survived'] = -1\n",
    "\n",
    "data_and_train = pd.get_dummies(pd.concat([data, test]), columns=['Sex', 'Pclass', 'SibSp', 'Parch'])\n",
    "data = data_and_train[~data_and_train.index.isin(test.index)].reset_index()\n",
    "test = data_and_train[~data_and_train.index.isin(data.index)].reset_index()"
   ]
  },
  {
   "cell_type": "code",
   "execution_count": 341,
   "id": "shaped-champion",
   "metadata": {},
   "outputs": [],
   "source": [
    "cabin_data = data[['Cabin', 'Survived']]\n",
    "cabin_data = cabin_data.dropna()\n",
    "cabin_data['Cabin'] = cabin_data['Cabin'].str.split(' ')\n",
    "cabin_data = cabin_data.explode('Cabin')\n",
    "\n",
    "cabin_survived = cabin_data.groupby('Cabin').agg(Survived=('Survived', 'sum'), Total= ('Survived', 'count')).reset_index()\n",
    "cabin_survived = cabin_survived[cabin_survived['Cabin'].str.contains('[A-Z].[0-9]+')]\n",
    "cabin_survived['Ratio'] = cabin_survived['Survived'] / cabin_survived['Total']\n",
    "cabin_survived['CabinType'] = cabin_survived['Cabin'].str[0]\n",
    "cabin_survived['CabinNum'] = cabin_survived['Cabin'].str[1:].astype(int)\n",
    "\n",
    "cabin_model = {}\n",
    "for cabin_type in set(cabin_survived['CabinType']): \n",
    "    train_data = cabin_survived[cabin_survived['CabinType'] == cabin_type][['CabinNum', 'Ratio']].to_numpy()\n",
    "    if len(train_data) > 5:\n",
    "        model = sklearn.neighbors.KNeighborsRegressor()\n",
    "        param_grid = {\n",
    "            'n_neighbors': np.arange(1, 5)\n",
    "        }\n",
    "        knn_gscv = GridSearchCV(model, param_grid, cv=3)\n",
    "        knn_gscv.fit(np.c_[train_data[:, 0]], train_data[:, 1])\n",
    "\n",
    "        cabin_model[cabin_type] = knn_gscv"
   ]
  },
  {
   "cell_type": "code",
   "execution_count": 342,
   "id": "careful-repair",
   "metadata": {},
   "outputs": [],
   "source": [
    "def prepare_data(_data):\n",
    "    train_data = _data.drop('Name', axis=1).drop('Ticket', axis=1).drop('Embarked', axis=1)\n",
    "    train_data['FareExpensive'] = (train_data['Fare'] > 50).astype(int)\n",
    "    train_data = train_data.drop('Fare', axis=1)\n",
    "\n",
    "    def cabin_ration(cabin):\n",
    "        if type(cabin)  == float and math.isnan(cabin):\n",
    "            return 0.5\n",
    "\n",
    "        result = []\n",
    "        for c in cabin.split(' '):\n",
    "            if not re.match('[A-Z].[0-9]+', c):\n",
    "                continue\n",
    "\n",
    "            if c[0] not in cabin_model:\n",
    "                continue\n",
    "            result.append(cabin_model[c[0]].predict([[int(c[1:])]])[0])\n",
    "\n",
    "        if len(result) == 0:\n",
    "            return 0.5\n",
    "        return sum(result) / len(result)\n",
    "\n",
    "\n",
    "    train_data['CabinSurvivor'] = train_data['Cabin'].apply(cabin_ration)\n",
    "    train_data = train_data.drop('Cabin', axis=1)\n",
    "\n",
    "    train_data['Age'] = train_data['Age'] / 100\n",
    "\n",
    "    train_data['Survived'] = train_data.pop('Survived')\n",
    "\n",
    "    X_with_age = train_data.dropna()\n",
    "    X_no_age = train_data.drop('Age', axis=1).dropna()\n",
    "    \n",
    "    return X_with_age, X_no_age"
   ]
  },
  {
   "cell_type": "code",
   "execution_count": 343,
   "id": "regular-pitch",
   "metadata": {},
   "outputs": [],
   "source": [
    "X_with_age, X_no_age = prepare_data(data)\n",
    "X_with_age = X_with_age.to_numpy()\n",
    "X_no_age = X_no_age.to_numpy()"
   ]
  },
  {
   "cell_type": "code",
   "execution_count": 344,
   "id": "apart-compilation",
   "metadata": {},
   "outputs": [
    {
     "name": "stdout",
     "output_type": "stream",
     "text": [
      "age: {} score: 0.8011425194523787\n",
      "no_age: {} score: 0.8080911430544223\n"
     ]
    }
   ],
   "source": [
    "for name, X in [('age', X_with_age), ('no_age', X_no_age)]:\n",
    "        model = sklearn.linear_model.LogisticRegression()\n",
    "        param_grid = {}\n",
    "        mlp_gscv = GridSearchCV(model, param_grid, cv=5)\n",
    "        mlp_gscv.fit(X[:, 1:-1], X[:, -1])\n",
    "        print(\"%s: %s score: %s\" %  (name, str(mlp_gscv.best_params_), str(mlp_gscv.best_score_)))"
   ]
  },
  {
   "cell_type": "code",
   "execution_count": 345,
   "id": "casual-disaster",
   "metadata": {},
   "outputs": [
    {
     "name": "stdout",
     "output_type": "stream",
     "text": [
      "age: {'max_depth': 4, 'n_estimators': 10} score: 0.8179749827637153\n",
      "no_age: {'max_depth': 4, 'n_estimators': 70} score: 0.8170736300295023\n"
     ]
    }
   ],
   "source": [
    "for name, X in [('age', X_with_age), ('no_age', X_no_age)]:\n",
    "        model = RandomForestClassifier(n_estimators=100, max_depth=3, random_state=2)\n",
    "        param_grid = {\n",
    "            \"n_estimators\": range(10, 100, 20),\n",
    "            \"max_depth\": range(2, 5)\n",
    "        }\n",
    "        mlp_gscv = GridSearchCV(model, param_grid, cv=5, n_jobs=-1)\n",
    "        mlp_gscv.fit(X[:, 1:-1], X[:, -1])\n",
    "        print(\"%s: %s score: %s\" %  (name, str(mlp_gscv.best_params_), str(mlp_gscv.best_score_)))"
   ]
  },
  {
   "cell_type": "code",
   "execution_count": 346,
   "id": "incoming-office",
   "metadata": {},
   "outputs": [
    {
     "name": "stdout",
     "output_type": "stream",
     "text": [
      "age: {'hidden_layer_sizes': (11, 5), 'max_iter': 50, 'solver': 'lbfgs'} score: 0.8487737614498178\n",
      "no_age: {'hidden_layer_sizes': (5, 5), 'max_iter': 70, 'solver': 'lbfgs'} score: 0.8282970309459545\n"
     ]
    }
   ],
   "source": [
    "models = {}\n",
    "for name, X in [('age', X_with_age), ('no_age', X_no_age)]:\n",
    "        model = MLPClassifier(random_state=1, activation='relu')\n",
    "        param_grid = {\n",
    "            'max_iter': np.arange(10, 100, step=20),\n",
    "            'solver': ['lbfgs', 'adam'],\n",
    "            'hidden_layer_sizes': list(range(4, 10)) + list(itertools.product(range(4, 12), range(1, 8)))\n",
    "        }\n",
    "        mlp_gscv = GridSearchCV(model, param_grid, cv=5, n_jobs=-1)\n",
    "        mlp_gscv.fit(X[:, 1:-1], X[:, -1])\n",
    "        print(\"%s: %s score: %s\" %  (name, str(mlp_gscv.best_params_), str(mlp_gscv.best_score_)))\n",
    "        models[name] = mlp_gscv"
   ]
  },
  {
   "cell_type": "code",
   "execution_count": 353,
   "id": "primary-allowance",
   "metadata": {},
   "outputs": [
    {
     "name": "stdout",
     "output_type": "stream",
     "text": [
      "Len with age: 87, no age: 332\n"
     ]
    }
   ],
   "source": [
    "test_with_age = test.dropna()\n",
    "test_no_age = test[~test.set_index('PassengerId').index.isin(test_with_age.set_index('PassengerId').index)]\n",
    "\n",
    "X_with_age_test, _ = prepare_data(test_with_age.dropna())\n",
    "_, X_no_age_test = prepare_data(test_no_age)\n",
    "\n",
    "print(\"Len with age: %d, no age: %d\" % (len(X_with_age_test), len(X_no_age_test)))\n",
    "\n",
    "X_with_age_test = X_with_age_test.to_numpy()\n",
    "X_no_age_test = X_no_age_test.to_numpy()"
   ]
  },
  {
   "cell_type": "code",
   "execution_count": 354,
   "id": "pointed-official",
   "metadata": {},
   "outputs": [
    {
     "data": {
      "text/html": [
       "<div>\n",
       "<style scoped>\n",
       "    .dataframe tbody tr th:only-of-type {\n",
       "        vertical-align: middle;\n",
       "    }\n",
       "\n",
       "    .dataframe tbody tr th {\n",
       "        vertical-align: top;\n",
       "    }\n",
       "\n",
       "    .dataframe thead th {\n",
       "        text-align: right;\n",
       "    }\n",
       "</style>\n",
       "<table border=\"1\" class=\"dataframe\">\n",
       "  <thead>\n",
       "    <tr style=\"text-align: right;\">\n",
       "      <th></th>\n",
       "      <th>Survived</th>\n",
       "    </tr>\n",
       "    <tr>\n",
       "      <th>PassengerId</th>\n",
       "      <th></th>\n",
       "    </tr>\n",
       "  </thead>\n",
       "  <tbody>\n",
       "    <tr>\n",
       "      <th>891</th>\n",
       "      <td>0</td>\n",
       "    </tr>\n",
       "    <tr>\n",
       "      <th>892</th>\n",
       "      <td>0</td>\n",
       "    </tr>\n",
       "    <tr>\n",
       "      <th>893</th>\n",
       "      <td>0</td>\n",
       "    </tr>\n",
       "    <tr>\n",
       "      <th>894</th>\n",
       "      <td>0</td>\n",
       "    </tr>\n",
       "    <tr>\n",
       "      <th>895</th>\n",
       "      <td>0</td>\n",
       "    </tr>\n",
       "    <tr>\n",
       "      <th>...</th>\n",
       "      <td>...</td>\n",
       "    </tr>\n",
       "    <tr>\n",
       "      <th>1305</th>\n",
       "      <td>0</td>\n",
       "    </tr>\n",
       "    <tr>\n",
       "      <th>1306</th>\n",
       "      <td>1</td>\n",
       "    </tr>\n",
       "    <tr>\n",
       "      <th>1307</th>\n",
       "      <td>0</td>\n",
       "    </tr>\n",
       "    <tr>\n",
       "      <th>1308</th>\n",
       "      <td>0</td>\n",
       "    </tr>\n",
       "    <tr>\n",
       "      <th>1309</th>\n",
       "      <td>0</td>\n",
       "    </tr>\n",
       "  </tbody>\n",
       "</table>\n",
       "<p>419 rows × 1 columns</p>\n",
       "</div>"
      ],
      "text/plain": [
       "             Survived\n",
       "PassengerId          \n",
       "891                 0\n",
       "892                 0\n",
       "893                 0\n",
       "894                 0\n",
       "895                 0\n",
       "...               ...\n",
       "1305                0\n",
       "1306                1\n",
       "1307                0\n",
       "1308                0\n",
       "1309                0\n",
       "\n",
       "[419 rows x 1 columns]"
      ]
     },
     "execution_count": 354,
     "metadata": {},
     "output_type": "execute_result"
    }
   ],
   "source": [
    "def predict(name, test_data):\n",
    "    predicted = models[name].predict(test_data[:, 1:-1])\n",
    "    return np.c_[test_data[:, 0], predicted]\n",
    "\n",
    "predict_with_age = predict('age', X_with_age_test)\n",
    "predict_no_age = predict('no_age', X_no_age_test)\n",
    "predict = np.concatenate((predict_with_age, predict_no_age), axis=0)\n",
    "predict = pd.DataFrame(data=predict, columns=['PassengerId', 'Survived'])\n",
    "\n",
    "predict['PassengerId'] = predict['PassengerId'].astype(int)\n",
    "predict['Survived'] = predict['Survived'].astype(int)\n",
    "predict = predict.set_index('PassengerId').sort_values(by=['PassengerId'])\n",
    "\n",
    "predict"
   ]
  },
  {
   "cell_type": "code",
   "execution_count": 355,
   "id": "differential-variable",
   "metadata": {},
   "outputs": [],
   "source": [
    "predict.to_csv('my_submission.csv')"
   ]
  }
 ],
 "metadata": {
  "kernelspec": {
   "display_name": "Python 3",
   "language": "python",
   "name": "python3"
  },
  "language_info": {
   "codemirror_mode": {
    "name": "ipython",
    "version": 3
   },
   "file_extension": ".py",
   "mimetype": "text/x-python",
   "name": "python",
   "nbconvert_exporter": "python",
   "pygments_lexer": "ipython3",
   "version": "3.8.5"
  }
 },
 "nbformat": 4,
 "nbformat_minor": 5
}

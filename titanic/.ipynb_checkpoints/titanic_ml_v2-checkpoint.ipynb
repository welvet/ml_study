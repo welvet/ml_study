{
 "cells": [
  {
   "cell_type": "code",
   "execution_count": 119,
   "id": "effective-respect",
   "metadata": {},
   "outputs": [],
   "source": [
    "import matplotlib.pyplot as plt\n",
    "import re\n",
    "import numpy as np\n",
    "import math\n",
    "import pandas as pd\n",
    "import random\n",
    "import seaborn as sns\n",
    "import warnings\n",
    "import itertools\n",
    "import sklearn.neighbors\n",
    "from sklearn.model_selection import GridSearchCV\n",
    "from sklearn.neural_network import MLPClassifier\n",
    "from sklearn.ensemble import RandomForestClassifier,VotingClassifier\n",
    "import sklearn.linear_model\n",
    "from sklearn.model_selection import train_test_split\n",
    "from sklearn.preprocessing import StandardScaler\n",
    "warnings.filterwarnings(\"ignore\")\n",
    "\n",
    "plt.style.use('ggplot')"
   ]
  },
  {
   "cell_type": "code",
   "execution_count": 128,
   "id": "delayed-phone",
   "metadata": {},
   "outputs": [],
   "source": [
    "train = pd.read_csv('train.csv').set_index('PassengerId')\n",
    "target = pd.read_csv('test.csv').set_index('PassengerId')\n",
    "target['Survived'] = 0\n",
    "\n",
    "data = pd.concat([train, target])\n",
    "\n",
    "data['Rank'] = data['Cabin'].str[0]\n",
    "data = pd.get_dummies(data, columns=['Sex', 'Pclass', 'Rank', 'Embarked'])\n",
    "\n",
    "def normalize(column):\n",
    "    data[column] = StandardScaler().fit_transform(data[column].to_numpy().reshape(-1, 1))\n",
    "#     data[column] = (data[column] - data[column].mean()) / (data[column].max() - data[column].min())\n",
    "    \n",
    "data['LastName'] = data['Name'].apply(lambda x: x.split(',')[0])\n",
    "\n",
    "families_total = dict(data.groupby('LastName')['Survived'].count())\n",
    "families_survived = dict(data.groupby('LastName')['Survived'].sum())\n",
    "data['FamilySize'] = data['LastName'].apply(lambda name: families_total.get(name, 0))\n",
    "data['FamilySurvived'] = data['LastName'].apply(lambda name: families_survived.get(name, 0))\n",
    "normalize('FamilySize')\n",
    "normalize('FamilySurvived')\n",
    "\n",
    "\n",
    "data['Age'] = data['Age'].fillna(data['Age'].mean())\n",
    "normalize('Age')\n",
    "normalize('SibSp')\n",
    "normalize('Parch')\n",
    "data['Fare'] = data['Fare'].fillna(data['Fare'].mean())\n",
    "normalize('Fare')\n",
    "\n",
    "data = data.drop(['Name', 'Ticket', 'Cabin', 'SibSp', 'Parch', 'LastName'], axis=1)\n",
    "\n",
    "data['Survived'] = data.pop('Survived')\n",
    "data.to_csv('tmp_data.csv')\n",
    "\n",
    "train = data[data.index.isin(train.index)]\n",
    "test = data[data.index.isin(target.index)]\n",
    "test = test.drop('Survived', axis=1)\n",
    "\n",
    "train = train.reset_index()\n",
    "test = test.reset_index()\n",
    "\n",
    "X_train, X_test, y_train, y_test = train_test_split(train.drop(['PassengerId', 'Survived'], axis=1).to_numpy(), train['Survived'].to_numpy(), test_size=0.01)"
   ]
  },
  {
   "cell_type": "code",
   "execution_count": 129,
   "id": "partial-lighter",
   "metadata": {},
   "outputs": [
    {
     "name": "stdout",
     "output_type": "stream",
     "text": [
      "LogReg: {} score: 0.8888888888888888  (on train: 0.9342321520287623)\n"
     ]
    }
   ],
   "source": [
    "model = sklearn.linear_model.LogisticRegression()\n",
    "param_grid = {}\n",
    "lin_gscv = GridSearchCV(model, param_grid, cv=5)\n",
    "lin_gscv.fit(X_train, y_train)\n",
    "lin_gscv_score = lin_gscv.score(X_test, y_test)\n",
    "\n",
    "print(\"%s: %s score: %s  (on train: %s)\" %  (\"LogReg\", str(lin_gscv.best_params_), str(lin_gscv_score), str(lin_gscv.best_score_)))"
   ]
  },
  {
   "cell_type": "code",
   "execution_count": 133,
   "id": "regulated-involvement",
   "metadata": {},
   "outputs": [
    {
     "name": "stdout",
     "output_type": "stream",
     "text": [
      "Forest: {'max_depth': 8, 'max_features': 19, 'n_estimators': 15} score: 0.8888888888888888  (on train: 0.9659729315628193)\n"
     ]
    }
   ],
   "source": [
    "model = RandomForestClassifier(n_estimators=100, max_depth=3, random_state=2)\n",
    "param_grid = {\n",
    "    \"n_estimators\": range(10, 50, 5),\n",
    "    \"max_features\": range(4, 100, 5),\n",
    "    \"max_depth\": range(5, 10)\n",
    "}\n",
    "rfc_gscv = GridSearchCV(model, param_grid, cv=10, n_jobs=-1)\n",
    "rfc_gscv.fit(X_train, y_train)\n",
    "rfc_gscv_score = rfc_gscv.score(X_test, y_test)\n",
    "\n",
    "print(\"%s: %s score: %s  (on train: %s)\" %  (\"Forest\", str(rfc_gscv.best_params_), str(rfc_gscv_score), str(rfc_gscv.best_score_)))"
   ]
  },
  {
   "cell_type": "code",
   "execution_count": 111,
   "id": "amino-reproduction",
   "metadata": {},
   "outputs": [
    {
     "name": "stdout",
     "output_type": "stream",
     "text": [
      "MLP: {'hidden_layer_sizes': (22, 5), 'max_iter': 81, 'solver': 'lbfgs'} score: 0.8888888888888888  (on train: 0.9478171545968157)\n"
     ]
    }
   ],
   "source": [
    "model = MLPClassifier(random_state=1, activation='relu')\n",
    "param_grid = {\n",
    "    'max_iter': np.arange(1, 100, step=10),\n",
    "    'solver': ['lbfgs', 'adam'],\n",
    "#    'hidden_layer_sizes': list(range(4, 10)) + list(itertools.product(range(4, 12), range(1, 8)))\n",
    "    'hidden_layer_sizes': list(itertools.product(range(18, 24), range(4, 8)))\n",
    "}\n",
    "mlp_gscv = GridSearchCV(model, param_grid, cv=5, n_jobs=-1)\n",
    "mlp_gscv.fit(X_train, y_train)\n",
    "mlp_gscv_score = mlp_gscv.score(X_test, y_test)\n",
    "\n",
    "print(\"%s: %s score: %s  (on train: %s)\" %  (\"MLP\", str(mlp_gscv.best_params_), str(mlp_gscv_score), str(mlp_gscv.best_score_)))"
   ]
  },
  {
   "cell_type": "code",
   "execution_count": 131,
   "id": "bottom-penalty",
   "metadata": {},
   "outputs": [
    {
     "data": {
      "text/plain": [
       "0.8888888888888888"
      ]
     },
     "execution_count": 131,
     "metadata": {},
     "output_type": "execute_result"
    }
   ],
   "source": [
    "#voting = VotingClassifier(estimators=[('lin', lin_gscv), ('rfc', rfc_gscv), ('mlp', mlp_gscv)])\n",
    "#voting.fit(X_train, y_train)\n",
    "#voting.score(X_test, y_test)"
   ]
  },
  {
   "cell_type": "code",
   "execution_count": 132,
   "id": "tutorial-hotel",
   "metadata": {},
   "outputs": [],
   "source": [
    "def predict(model):\n",
    "    predicted = model.predict(test.drop('PassengerId', axis=1).to_numpy())\n",
    "    predicted = np.c_[test['PassengerId'], predicted]\n",
    "\n",
    "    predicted = pd.DataFrame(data=predicted, columns=['PassengerId', 'Survived'])\n",
    "\n",
    "    predicted['PassengerId'] = predicted['PassengerId'].astype(int)\n",
    "    predicted['Survived'] = predicted['Survived'].astype(int)\n",
    "    return predicted.set_index('PassengerId').sort_values(by=['PassengerId'])\n",
    "\n",
    "predict_lin = predict(lin_gscv)\n",
    "predict_rfc = predict(rfc_gscv)\n",
    "predict_mpl = predict(mlp_gscv)\n",
    "predict_voting = predict(voting)\n",
    "\n",
    "predict_rfc.to_csv('my_submission.csv')\n",
    "\n",
    "predict_lin['From'] = 'lin'\n",
    "predict_rfc['From'] = 'rfc'\n",
    "predict_mpl['From'] = 'mlp'\n",
    "predict_voting['From'] = 'vote'\n",
    "\n",
    "pd.concat([predict_lin, predict_rfc, predict_mpl, predict_voting]).pivot(columns='From').to_csv('all_results.csv')"
   ]
  }
 ],
 "metadata": {
  "kernelspec": {
   "display_name": "Python 3",
   "language": "python",
   "name": "python3"
  },
  "language_info": {
   "codemirror_mode": {
    "name": "ipython",
    "version": 3
   },
   "file_extension": ".py",
   "mimetype": "text/x-python",
   "name": "python",
   "nbconvert_exporter": "python",
   "pygments_lexer": "ipython3",
   "version": "3.8.8"
  }
 },
 "nbformat": 4,
 "nbformat_minor": 5
}

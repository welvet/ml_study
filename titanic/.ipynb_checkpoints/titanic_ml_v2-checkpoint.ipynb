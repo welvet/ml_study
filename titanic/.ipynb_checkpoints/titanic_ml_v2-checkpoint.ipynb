{
 "cells": [
  {
   "cell_type": "code",
   "execution_count": 1,
   "id": "advisory-growing",
   "metadata": {},
   "outputs": [],
   "source": [
    "import matplotlib.pyplot as plt\n",
    "import re\n",
    "import numpy as np\n",
    "import math\n",
    "import pandas as pd\n",
    "import random\n",
    "import seaborn as sns\n",
    "import warnings\n",
    "import itertools\n",
    "import sklearn.neighbors\n",
    "from sklearn.model_selection import GridSearchCV\n",
    "from sklearn.neural_network import MLPClassifier\n",
    "from sklearn.ensemble import RandomForestClassifier\n",
    "import sklearn.linear_model\n",
    "warnings.filterwarnings(\"ignore\")\n",
    "\n",
    "plt.style.use('ggplot')"
   ]
  },
  {
   "cell_type": "code",
   "execution_count": 119,
   "id": "single-complexity",
   "metadata": {},
   "outputs": [],
   "source": [
    "train = pd.read_csv('train.csv').set_index('PassengerId')\n",
    "test = pd.read_csv('test.csv').set_index('PassengerId')\n",
    "test['Survived'] = -1\n",
    "\n",
    "train_and_test = pd.concat([train, test])\n",
    "\n",
    "train_and_test['Rank'] = train_and_test['Cabin'].str[0]\n",
    "train_and_test = pd.get_dummies(train_and_test, columns=['Sex', 'Pclass', 'Rank', 'Embarked'])\n",
    "\n",
    "def normalize(column):\n",
    "    train_and_test[column] = (train_and_test[column] - train_and_test[column].min()) / (train_and_test[column].max() - train_and_test[column].min())\n",
    "    \n",
    "train_and_test['LastName'] = train_and_test['Name'].apply(lambda x: x.split(',')[0])\n",
    "\n",
    "train_and_test['Age'] = train_and_test['Age'].fillna(30)\n",
    "normalize('Age')\n",
    "normalize('SibSp')\n",
    "normalize('Parch')\n",
    "normalize('Fare')\n",
    "train_and_test['Fare'] = train_and_test['Fare'].fillna(0)\n",
    "\n",
    "train_and_test = train_and_test.drop(['Name', 'Ticket', 'Cabin'], axis=1)\n",
    "\n",
    "train_and_test['Survived'] = train_and_test.pop('Survived')\n",
    "\n",
    "data = train_and_test[~train_and_test.index.isin(test.index)]\n",
    "test = train_and_test[~train_and_test.index.isin(data.index)]\n",
    "\n",
    "data = data.reset_index()\n",
    "test = test.reset_index()\n",
    "\n",
    "X = data.to_numpy()\n",
    "\n",
    "data.set_index('PassengerId').to_csv('tmd_data.csv')"
   ]
  },
  {
   "cell_type": "code",
   "execution_count": 135,
   "id": "close-clear",
   "metadata": {},
   "outputs": [
    {
     "ename": "KeyError",
     "evalue": "('LastName', 'Survived')",
     "output_type": "error",
     "traceback": [
      "\u001b[0;31m---------------------------------------------------------------------------\u001b[0m",
      "\u001b[0;31mKeyError\u001b[0m                                  Traceback (most recent call last)",
      "\u001b[0;32m/usr/local/Caskroom/miniconda/base/envs/learn/lib/python3.8/site-packages/pandas/core/indexes/base.py\u001b[0m in \u001b[0;36mget_loc\u001b[0;34m(self, key, method, tolerance)\u001b[0m\n\u001b[1;32m   3079\u001b[0m             \u001b[0;32mtry\u001b[0m\u001b[0;34m:\u001b[0m\u001b[0;34m\u001b[0m\u001b[0;34m\u001b[0m\u001b[0m\n\u001b[0;32m-> 3080\u001b[0;31m                 \u001b[0;32mreturn\u001b[0m \u001b[0mself\u001b[0m\u001b[0;34m.\u001b[0m\u001b[0m_engine\u001b[0m\u001b[0;34m.\u001b[0m\u001b[0mget_loc\u001b[0m\u001b[0;34m(\u001b[0m\u001b[0mcasted_key\u001b[0m\u001b[0;34m)\u001b[0m\u001b[0;34m\u001b[0m\u001b[0;34m\u001b[0m\u001b[0m\n\u001b[0m\u001b[1;32m   3081\u001b[0m             \u001b[0;32mexcept\u001b[0m \u001b[0mKeyError\u001b[0m \u001b[0;32mas\u001b[0m \u001b[0merr\u001b[0m\u001b[0;34m:\u001b[0m\u001b[0;34m\u001b[0m\u001b[0;34m\u001b[0m\u001b[0m\n",
      "\u001b[0;32mpandas/_libs/index.pyx\u001b[0m in \u001b[0;36mpandas._libs.index.IndexEngine.get_loc\u001b[0;34m()\u001b[0m\n",
      "\u001b[0;32mpandas/_libs/index.pyx\u001b[0m in \u001b[0;36mpandas._libs.index.IndexEngine.get_loc\u001b[0;34m()\u001b[0m\n",
      "\u001b[0;32mpandas/_libs/hashtable_class_helper.pxi\u001b[0m in \u001b[0;36mpandas._libs.hashtable.PyObjectHashTable.get_item\u001b[0;34m()\u001b[0m\n",
      "\u001b[0;32mpandas/_libs/hashtable_class_helper.pxi\u001b[0m in \u001b[0;36mpandas._libs.hashtable.PyObjectHashTable.get_item\u001b[0;34m()\u001b[0m\n",
      "\u001b[0;31mKeyError\u001b[0m: ('LastName', 'Survived')",
      "\nThe above exception was the direct cause of the following exception:\n",
      "\u001b[0;31mKeyError\u001b[0m                                  Traceback (most recent call last)",
      "\u001b[0;32m<ipython-input-135-6d7f7fc48e42>\u001b[0m in \u001b[0;36m<module>\u001b[0;34m\u001b[0m\n\u001b[0;32m----> 1\u001b[0;31m \u001b[0;34m[\u001b[0m\u001b[0mname\u001b[0m \u001b[0;32mfor\u001b[0m \u001b[0mname\u001b[0m\u001b[0;34m,\u001b[0m \u001b[0msurvived\u001b[0m \u001b[0;32min\u001b[0m \u001b[0mzip\u001b[0m\u001b[0;34m(\u001b[0m\u001b[0mtrain_and_test\u001b[0m\u001b[0;34m[\u001b[0m\u001b[0;34m'LastName'\u001b[0m\u001b[0;34m,\u001b[0m \u001b[0;34m'Survived'\u001b[0m\u001b[0;34m]\u001b[0m\u001b[0;34m)\u001b[0m \u001b[0;32mif\u001b[0m \u001b[0msurvived\u001b[0m \u001b[0;34m==\u001b[0m \u001b[0;36m1\u001b[0m\u001b[0;34m]\u001b[0m\u001b[0;34m\u001b[0m\u001b[0;34m\u001b[0m\u001b[0m\n\u001b[0m",
      "\u001b[0;32m/usr/local/Caskroom/miniconda/base/envs/learn/lib/python3.8/site-packages/pandas/core/frame.py\u001b[0m in \u001b[0;36m__getitem__\u001b[0;34m(self, key)\u001b[0m\n\u001b[1;32m   3022\u001b[0m             \u001b[0;32mif\u001b[0m \u001b[0mself\u001b[0m\u001b[0;34m.\u001b[0m\u001b[0mcolumns\u001b[0m\u001b[0;34m.\u001b[0m\u001b[0mnlevels\u001b[0m \u001b[0;34m>\u001b[0m \u001b[0;36m1\u001b[0m\u001b[0;34m:\u001b[0m\u001b[0;34m\u001b[0m\u001b[0;34m\u001b[0m\u001b[0m\n\u001b[1;32m   3023\u001b[0m                 \u001b[0;32mreturn\u001b[0m \u001b[0mself\u001b[0m\u001b[0;34m.\u001b[0m\u001b[0m_getitem_multilevel\u001b[0m\u001b[0;34m(\u001b[0m\u001b[0mkey\u001b[0m\u001b[0;34m)\u001b[0m\u001b[0;34m\u001b[0m\u001b[0;34m\u001b[0m\u001b[0m\n\u001b[0;32m-> 3024\u001b[0;31m             \u001b[0mindexer\u001b[0m \u001b[0;34m=\u001b[0m \u001b[0mself\u001b[0m\u001b[0;34m.\u001b[0m\u001b[0mcolumns\u001b[0m\u001b[0;34m.\u001b[0m\u001b[0mget_loc\u001b[0m\u001b[0;34m(\u001b[0m\u001b[0mkey\u001b[0m\u001b[0;34m)\u001b[0m\u001b[0;34m\u001b[0m\u001b[0;34m\u001b[0m\u001b[0m\n\u001b[0m\u001b[1;32m   3025\u001b[0m             \u001b[0;32mif\u001b[0m \u001b[0mis_integer\u001b[0m\u001b[0;34m(\u001b[0m\u001b[0mindexer\u001b[0m\u001b[0;34m)\u001b[0m\u001b[0;34m:\u001b[0m\u001b[0;34m\u001b[0m\u001b[0;34m\u001b[0m\u001b[0m\n\u001b[1;32m   3026\u001b[0m                 \u001b[0mindexer\u001b[0m \u001b[0;34m=\u001b[0m \u001b[0;34m[\u001b[0m\u001b[0mindexer\u001b[0m\u001b[0;34m]\u001b[0m\u001b[0;34m\u001b[0m\u001b[0;34m\u001b[0m\u001b[0m\n",
      "\u001b[0;32m/usr/local/Caskroom/miniconda/base/envs/learn/lib/python3.8/site-packages/pandas/core/indexes/base.py\u001b[0m in \u001b[0;36mget_loc\u001b[0;34m(self, key, method, tolerance)\u001b[0m\n\u001b[1;32m   3080\u001b[0m                 \u001b[0;32mreturn\u001b[0m \u001b[0mself\u001b[0m\u001b[0;34m.\u001b[0m\u001b[0m_engine\u001b[0m\u001b[0;34m.\u001b[0m\u001b[0mget_loc\u001b[0m\u001b[0;34m(\u001b[0m\u001b[0mcasted_key\u001b[0m\u001b[0;34m)\u001b[0m\u001b[0;34m\u001b[0m\u001b[0;34m\u001b[0m\u001b[0m\n\u001b[1;32m   3081\u001b[0m             \u001b[0;32mexcept\u001b[0m \u001b[0mKeyError\u001b[0m \u001b[0;32mas\u001b[0m \u001b[0merr\u001b[0m\u001b[0;34m:\u001b[0m\u001b[0;34m\u001b[0m\u001b[0;34m\u001b[0m\u001b[0m\n\u001b[0;32m-> 3082\u001b[0;31m                 \u001b[0;32mraise\u001b[0m \u001b[0mKeyError\u001b[0m\u001b[0;34m(\u001b[0m\u001b[0mkey\u001b[0m\u001b[0;34m)\u001b[0m \u001b[0;32mfrom\u001b[0m \u001b[0merr\u001b[0m\u001b[0;34m\u001b[0m\u001b[0;34m\u001b[0m\u001b[0m\n\u001b[0m\u001b[1;32m   3083\u001b[0m \u001b[0;34m\u001b[0m\u001b[0m\n\u001b[1;32m   3084\u001b[0m         \u001b[0;32mif\u001b[0m \u001b[0mtolerance\u001b[0m \u001b[0;32mis\u001b[0m \u001b[0;32mnot\u001b[0m \u001b[0;32mNone\u001b[0m\u001b[0;34m:\u001b[0m\u001b[0;34m\u001b[0m\u001b[0;34m\u001b[0m\u001b[0m\n",
      "\u001b[0;31mKeyError\u001b[0m: ('LastName', 'Survived')"
     ]
    }
   ],
   "source": [
    "[name for name, survived in zip(train_and_test['LastName', 'Survived']) if survived == 1]"
   ]
  },
  {
   "cell_type": "code",
   "execution_count": 109,
   "id": "afraid-sydney",
   "metadata": {},
   "outputs": [
    {
     "name": "stdout",
     "output_type": "stream",
     "text": [
      "LogReg: {} score: 0.7968740192078339\n"
     ]
    }
   ],
   "source": [
    "model = sklearn.linear_model.LogisticRegression()\n",
    "param_grid = {}\n",
    "lin_gscv = GridSearchCV(model, param_grid, cv=5)\n",
    "lin_gscv.fit(X[:, 1:-1], X[:, -1])\n",
    "print(\"%s: %s score: %s\" %  (\"LogReg\", str(lin_gscv.best_params_), str(lin_gscv.best_score_)))"
   ]
  },
  {
   "cell_type": "code",
   "execution_count": 100,
   "id": "incident-youth",
   "metadata": {},
   "outputs": [
    {
     "name": "stdout",
     "output_type": "stream",
     "text": [
      "Forest: {'max_depth': 4, 'n_estimators': 600} score: 0.8181783943255289\n"
     ]
    }
   ],
   "source": [
    "model = RandomForestClassifier(n_estimators=100, max_depth=3, random_state=2)\n",
    "param_grid = {\n",
    "    \"n_estimators\": range(500, 1000, 100),\n",
    "    \"max_depth\": range(2, 5)\n",
    "}\n",
    "rfc_gscv = GridSearchCV(model, param_grid, cv=5, n_jobs=-1)\n",
    "rfc_gscv.fit(X[:, 1:-1], X[:, -1])\n",
    "print(\"%s: %s score: %s\" %  (\"Forest\", str(rfc_gscv.best_params_), str(rfc_gscv.best_score_)))"
   ]
  },
  {
   "cell_type": "code",
   "execution_count": 113,
   "id": "miniature-serum",
   "metadata": {},
   "outputs": [
    {
     "name": "stdout",
     "output_type": "stream",
     "text": [
      "MLP: {'hidden_layer_sizes': (23, 5), 'max_iter': 300, 'solver': 'adam'} score: 0.827185989580064\n"
     ]
    }
   ],
   "source": [
    "model = MLPClassifier(random_state=1, activation='relu')\n",
    "param_grid = {\n",
    "    'max_iter': np.arange(100, 500, step=100),\n",
    "    'solver': ['lbfgs', 'adam'],\n",
    "#    'hidden_layer_sizes': list(range(4, 10)) + list(itertools.product(range(4, 12), range(1, 8)))\n",
    "    'hidden_layer_sizes': list(itertools.product(range(18, 24), range(4, 8)))\n",
    "}\n",
    "mlp_gscv = GridSearchCV(model, param_grid, cv=5, n_jobs=-1)\n",
    "mlp_gscv.fit(X[:, 1:-1], X[:, -1])\n",
    "print(\"%s: %s score: %s\" %  ('MLP', str(mlp_gscv.best_params_), str(mlp_gscv.best_score_)))\n",
    "# 0.8271"
   ]
  },
  {
   "cell_type": "code",
   "execution_count": 114,
   "id": "egyptian-market",
   "metadata": {},
   "outputs": [
    {
     "data": {
      "text/html": [
       "<div>\n",
       "<style scoped>\n",
       "    .dataframe tbody tr th:only-of-type {\n",
       "        vertical-align: middle;\n",
       "    }\n",
       "\n",
       "    .dataframe tbody tr th {\n",
       "        vertical-align: top;\n",
       "    }\n",
       "\n",
       "    .dataframe thead th {\n",
       "        text-align: right;\n",
       "    }\n",
       "</style>\n",
       "<table border=\"1\" class=\"dataframe\">\n",
       "  <thead>\n",
       "    <tr style=\"text-align: right;\">\n",
       "      <th></th>\n",
       "      <th>Survived</th>\n",
       "      <th>From</th>\n",
       "    </tr>\n",
       "    <tr>\n",
       "      <th>PassengerId</th>\n",
       "      <th></th>\n",
       "      <th></th>\n",
       "    </tr>\n",
       "  </thead>\n",
       "  <tbody>\n",
       "    <tr>\n",
       "      <th>892</th>\n",
       "      <td>0</td>\n",
       "      <td>lin</td>\n",
       "    </tr>\n",
       "    <tr>\n",
       "      <th>898</th>\n",
       "      <td>1</td>\n",
       "      <td>rfc</td>\n",
       "    </tr>\n",
       "  </tbody>\n",
       "</table>\n",
       "</div>"
      ],
      "text/plain": [
       "             Survived From\n",
       "PassengerId               \n",
       "892                 0  lin\n",
       "898                 1  rfc"
      ]
     },
     "execution_count": 114,
     "metadata": {},
     "output_type": "execute_result"
    }
   ],
   "source": [
    "def predict(model):\n",
    "    test_data = test.to_numpy()\n",
    "    predicted = mlp_gscv.predict(test_data[:, 1:-1])\n",
    "    predicted = np.c_[test_data[:, 0], predicted]\n",
    "\n",
    "    predicted = pd.DataFrame(data=predicted, columns=['PassengerId', 'Survived'])\n",
    "\n",
    "    predicted['PassengerId'] = predicted['PassengerId'].astype(int)\n",
    "    predicted['Survived'] = predicted['Survived'].astype(int)\n",
    "    return predicted.set_index('PassengerId').sort_values(by=['PassengerId'])\n",
    "\n",
    "predict_lin = predict(lin_gscv)\n",
    "predict_rfc = predict(rfc_gscv)\n",
    "predict_mpl = predict(mlp_gscv)\n",
    "\n",
    "predict_mpl.to_csv('my_submission.csv')\n",
    "\n",
    "predict_lin['From'] = 'lin'\n",
    "predict_rfc['From'] = 'rfc'\n",
    "predict_mpl['From'] = 'mlp'\n",
    "\n",
    "pd.concat([predict_lin, predict_rfc, predict_mpl]).sort_values(by=['PassengerId']).drop_duplicates('Survived')"
   ]
  }
 ],
 "metadata": {
  "kernelspec": {
   "display_name": "Python 3",
   "language": "python",
   "name": "python3"
  },
  "language_info": {
   "codemirror_mode": {
    "name": "ipython",
    "version": 3
   },
   "file_extension": ".py",
   "mimetype": "text/x-python",
   "name": "python",
   "nbconvert_exporter": "python",
   "pygments_lexer": "ipython3",
   "version": "3.8.5"
  }
 },
 "nbformat": 4,
 "nbformat_minor": 5
}

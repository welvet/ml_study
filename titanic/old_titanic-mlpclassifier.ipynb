{
 "cells": [
  {
   "cell_type": "code",
   "execution_count": 7,
   "metadata": {},
   "outputs": [],
   "source": [
    "import matplotlib.pyplot as plt\n",
    "import re\n",
    "import numpy as np\n",
    "import math\n",
    "import pandas as pd\n",
    "import random\n",
    "import seaborn as sns\n",
    "import warnings\n",
    "import itertools\n",
    "import sklearn.neighbors\n",
    "from sklearn.model_selection import GridSearchCV\n",
    "from sklearn.neural_network import MLPClassifier\n",
    "import sklearn.linear_model\n",
    "warnings.filterwarnings(\"ignore\")\n",
    "\n",
    "plt.style.use('ggplot')"
   ]
  },
  {
   "cell_type": "code",
   "execution_count": 8,
   "metadata": {},
   "outputs": [],
   "source": [
    "data = pd.read_csv('train.csv')"
   ]
  },
  {
   "cell_type": "code",
   "execution_count": 9,
   "metadata": {},
   "outputs": [],
   "source": [
    "def prepare_data(_data):\n",
    "    train_data = _data[['PassengerId', 'Sex', 'Age', 'Pclass', 'Fare', 'Survived']]\n",
    "    train_data['FareExpensive'] = (train_data['Fare'] > 50).astype(int)\n",
    "    train_data = train_data.drop('Fare', axis=1)\n",
    "\n",
    "    train_data['Age'] = train_data['Age'] / 100\n",
    "\n",
    "    train_data = pd.get_dummies(train_data, columns=['Sex', 'Pclass'])\n",
    "    train_data['Survived'] = train_data.pop('Survived')\n",
    "\n",
    "    X_with_age = train_data.dropna()\n",
    "    X_no_age = train_data.drop('Age', axis=1).dropna()\n",
    "    \n",
    "    return X_with_age, X_no_age"
   ]
  },
  {
   "cell_type": "code",
   "execution_count": 10,
   "metadata": {},
   "outputs": [],
   "source": [
    "X_with_age, X_no_age = prepare_data(data)\n",
    "X_with_age = X_with_age.to_numpy()\n",
    "X_no_age = X_no_age.to_numpy()"
   ]
  },
  {
   "cell_type": "code",
   "execution_count": 11,
   "metadata": {},
   "outputs": [
    {
     "name": "stdout",
     "output_type": "stream",
     "text": [
      "age: {} score: 0.7759479956663056\n",
      "no_age: {} score: 0.7722114117130123\n"
     ]
    }
   ],
   "source": [
    "for name, X in [('age', X_with_age), ('no_age', X_no_age)]:\n",
    "        model = sklearn.linear_model.LogisticRegression()\n",
    "        param_grid = {}\n",
    "        mlp_gscv = GridSearchCV(model, param_grid, cv=5)\n",
    "        mlp_gscv.fit(X[:, 1:-1], X[:, -1])\n",
    "        print(\"%s: %s score: %s\" %  (name, str(mlp_gscv.best_params_), str(mlp_gscv.best_score_)))"
   ]
  },
  {
   "cell_type": "code",
   "execution_count": 12,
   "metadata": {},
   "outputs": [
    {
     "name": "stdout",
     "output_type": "stream",
     "text": [
      "age: {'hidden_layer_sizes': (11, 7), 'max_iter': 90, 'solver': 'lbfgs'} score: 0.806746774352408\n",
      "no_age: {'hidden_layer_sizes': (5, 1), 'max_iter': 90, 'solver': 'adam'} score: 0.7901073378946707\n"
     ]
    }
   ],
   "source": [
    "models = {}\n",
    "for name, X in [('age', X_with_age), ('no_age', X_no_age)]:\n",
    "        model = MLPClassifier(random_state=1, activation='relu')\n",
    "        param_grid = {\n",
    "            'max_iter': np.arange(10, 100, step=20),\n",
    "            'solver': ['lbfgs', 'adam'],\n",
    "            'hidden_layer_sizes': list(range(4, 10)) + list(itertools.product(range(4, 12), range(1, 8)))\n",
    "        }\n",
    "        mlp_gscv = GridSearchCV(model, param_grid, cv=5, n_jobs=-1)\n",
    "        mlp_gscv.fit(X[:, 1:-1], X[:, -1])\n",
    "        print(\"%s: %s score: %s\" %  (name, str(mlp_gscv.best_params_), str(mlp_gscv.best_score_)))\n",
    "        models[name] = mlp_gscv"
   ]
  },
  {
   "cell_type": "code",
   "execution_count": 13,
   "metadata": {},
   "outputs": [],
   "source": [
    "test = pd.read_csv('test.csv')\n",
    "test['Survived'] = -1\n",
    "\n",
    "test_with_age = test.dropna()\n",
    "test_no_age = test[~test.set_index('PassengerId').index.isin(test_with_age.set_index('PassengerId').index)]"
   ]
  },
  {
   "cell_type": "code",
   "execution_count": 14,
   "metadata": {},
   "outputs": [
    {
     "name": "stdout",
     "output_type": "stream",
     "text": [
      "Len with age: 87, no age: 331\n"
     ]
    }
   ],
   "source": [
    "X_with_age_test, _ = prepare_data(test.dropna())\n",
    "_, X_no_age_test = prepare_data(test_no_age)\n",
    "\n",
    "print(\"Len with age: %d, no age: %d\" % (len(X_with_age_test), len(X_no_age_test)))\n",
    "\n",
    "X_with_age_test = X_with_age_test.to_numpy()\n",
    "X_no_age_test = X_no_age_test.to_numpy()"
   ]
  },
  {
   "cell_type": "code",
   "execution_count": 15,
   "metadata": {},
   "outputs": [
    {
     "data": {
      "text/html": [
       "<div>\n",
       "<style scoped>\n",
       "    .dataframe tbody tr th:only-of-type {\n",
       "        vertical-align: middle;\n",
       "    }\n",
       "\n",
       "    .dataframe tbody tr th {\n",
       "        vertical-align: top;\n",
       "    }\n",
       "\n",
       "    .dataframe thead th {\n",
       "        text-align: right;\n",
       "    }\n",
       "</style>\n",
       "<table border=\"1\" class=\"dataframe\">\n",
       "  <thead>\n",
       "    <tr style=\"text-align: right;\">\n",
       "      <th></th>\n",
       "      <th>Survived</th>\n",
       "    </tr>\n",
       "    <tr>\n",
       "      <th>PassengerId</th>\n",
       "      <th></th>\n",
       "    </tr>\n",
       "  </thead>\n",
       "  <tbody>\n",
       "    <tr>\n",
       "      <th>892</th>\n",
       "      <td>0</td>\n",
       "    </tr>\n",
       "    <tr>\n",
       "      <th>893</th>\n",
       "      <td>1</td>\n",
       "    </tr>\n",
       "    <tr>\n",
       "      <th>894</th>\n",
       "      <td>0</td>\n",
       "    </tr>\n",
       "    <tr>\n",
       "      <th>895</th>\n",
       "      <td>0</td>\n",
       "    </tr>\n",
       "    <tr>\n",
       "      <th>896</th>\n",
       "      <td>1</td>\n",
       "    </tr>\n",
       "  </tbody>\n",
       "</table>\n",
       "</div>"
      ],
      "text/plain": [
       "             Survived\n",
       "PassengerId          \n",
       "892                 0\n",
       "893                 1\n",
       "894                 0\n",
       "895                 0\n",
       "896                 1"
      ]
     },
     "execution_count": 15,
     "metadata": {},
     "output_type": "execute_result"
    }
   ],
   "source": [
    "def predict(name, test_data):\n",
    "    predicted = models[name].predict(test_data[:, 1:-1])\n",
    "    return np.c_[test_data[:, 0], predicted]\n",
    "\n",
    "predict_with_age = predict('age', X_with_age_test)\n",
    "predict_no_age = predict('no_age', X_no_age_test)\n",
    "predict = np.concatenate((predict_with_age, predict_no_age), axis=0)\n",
    "predict = pd.DataFrame(data=predict, columns=['PassengerId', 'Survived'])\n",
    "\n",
    "predict['PassengerId'] = predict['PassengerId'].astype(int)\n",
    "predict['Survived'] = predict['Survived'].astype(int)\n",
    "predict = predict.set_index('PassengerId').sort_values(by=['PassengerId'])\n",
    "\n",
    "predict.head()"
   ]
  },
  {
   "cell_type": "code",
   "execution_count": 16,
   "metadata": {},
   "outputs": [],
   "source": [
    "predict.to_csv('my_submission.csv')"
   ]
  }
 ],
 "metadata": {
  "kernelspec": {
   "display_name": "Python 3",
   "language": "python",
   "name": "python3"
  },
  "language_info": {
   "codemirror_mode": {
    "name": "ipython",
    "version": 3
   },
   "file_extension": ".py",
   "mimetype": "text/x-python",
   "name": "python",
   "nbconvert_exporter": "python",
   "pygments_lexer": "ipython3",
   "version": "3.8.5"
  }
 },
 "nbformat": 4,
 "nbformat_minor": 4
}
